{
  "nbformat": 4,
  "nbformat_minor": 0,
  "metadata": {
    "colab": {
      "provenance": [],
      "authorship_tag": "ABX9TyNYvxd6Zy8SN0FOHadoP9xs",
      "include_colab_link": true
    },
    "kernelspec": {
      "name": "python3",
      "display_name": "Python 3"
    },
    "language_info": {
      "name": "python"
    }
  },
  "cells": [
    {
      "cell_type": "markdown",
      "metadata": {
        "id": "view-in-github",
        "colab_type": "text"
      },
      "source": [
        "<a href=\"https://colab.research.google.com/github/amolathavale/aiml/blob/master/Numpy%20Tour.ipynb\" target=\"_parent\"><img src=\"https://colab.research.google.com/assets/colab-badge.svg\" alt=\"Open In Colab\"/></a>"
      ]
    },
    {
      "cell_type": "code",
      "execution_count": 2,
      "metadata": {
        "id": "YW5AjwsdcTMn"
      },
      "outputs": [],
      "source": [
        "import numpy as np\n",
        "import matplotlib.pyplot as plt"
      ]
    },
    {
      "cell_type": "markdown",
      "source": [
        "###Creating"
      ],
      "metadata": {
        "id": "1AHvt16Y2kMu"
      }
    },
    {
      "cell_type": "code",
      "source": [
        "a = np.array([1,2,3,4,5])\n",
        "a2 = np.array([[1,2,3,4], [5,6,7,8]], dtype=int16)"
      ],
      "metadata": {
        "id": "PGI47P852q3F"
      },
      "execution_count": null,
      "outputs": []
    },
    {
      "cell_type": "markdown",
      "source": [
        "###Placeholders"
      ],
      "metadata": {
        "id": "eHE8Jm-d3GlJ"
      }
    },
    {
      "cell_type": "code",
      "source": [
        "a = np.empty((2,2))\n",
        "a = np.zeros((5,5))\n",
        "a = np.ones((5,5))\n",
        "a1 = np.arange(1, 10, 1)\n",
        "a3 = np.linspace(0, 2, 10)\n",
        "a = np.full((2,2), 8)\n",
        "a = np.eye(2)\n",
        "a = np.random.random((5,5))\n",
        "a = np.random.binomial(100, 0.8, 5)\n",
        "b = np.random.chisquare(10, (5,5))\n"
      ],
      "metadata": {
        "id": "nTrPMc4Vcr4L"
      },
      "execution_count": 7,
      "outputs": []
    },
    {
      "cell_type": "markdown",
      "source": [
        "###Inspecting"
      ],
      "metadata": {
        "id": "BjL2SJ9U39ds"
      }
    },
    {
      "cell_type": "code",
      "source": [
        "a.shape, len(a), a.ndim, a.size, a.dtype, a.dtype.name, a.astype(int)"
      ],
      "metadata": {
        "id": "pVhkLotv9x32"
      },
      "execution_count": null,
      "outputs": []
    },
    {
      "cell_type": "markdown",
      "source": [
        "###Arithmatic operations"
      ],
      "metadata": {
        "id": "7nFqolCc4cRr"
      }
    },
    {
      "cell_type": "code",
      "source": [
        "g = a + b\n",
        "g = np.add(a, b)\n",
        "g = a - b\n",
        "g = np.subtract(a, b)\n",
        "g = a / b\n",
        "g = np.divide(a, b)\n",
        "g = a * b\n",
        "g = np.multiply(a, b)\n",
        "np.exp(a)\n",
        "np.sqrt(a)\n",
        "np.sin(a)\n",
        "np.log(a)\n",
        "a.dot(b)\n",
        "a.transpose()\n",
        "a.T\n",
        "np.power(a,b)\n",
        "np.ceil(a)\n",
        "np.round(a)\n",
        "np.floor(a)\n",
        "\n",
        "#Aggregation\n",
        "a.sum() # min, max, mean, median, std, var, corrcoef, cumsum\n",
        "\n",
        "#Sorting\n",
        "a.sort(axis=0)"
      ],
      "metadata": {
        "id": "jXkEuBH_4gDm"
      },
      "execution_count": null,
      "outputs": []
    },
    {
      "cell_type": "markdown",
      "source": [
        "###Slicing & Manipulation"
      ],
      "metadata": {
        "id": "eUHIx3ZO5WXr"
      }
    },
    {
      "cell_type": "code",
      "source": [
        "a[2], a[1,2], a[1][2]\n",
        "a[:2], a[:2, 1], a[5:], a[1, ...], a[:, :-1]\n",
        "a[a<2]\n",
        "\n",
        "a.ravel()\n",
        "a.reshape(3,-2)\n",
        "a.resize((2,6))\n",
        "np.append(a, b)\n",
        "np.concatenate((a,b), axis=0)\n",
        "np.vstack((a,b))\n",
        "np.hstack((a,b))\n",
        "np.column_stack((a,b))\n",
        "np.hsplit(a,3)\n",
        "np.vsplit(a,2)\n",
        "np.insert(a, 1, 5)\n",
        "np.delete(a, [1])\n",
        "np.concatenate((a[:1], a[2:]))\n",
        "np.concatenate((a,b), axis=0)\n",
        "np.unique(a)\n",
        "np.row_stack((a,b))\n",
        "np.column_stack((a,b))\n",
        "\n",
        "#Copying\n",
        "a = np.copy(a)\n",
        "a.view()"
      ],
      "metadata": {
        "id": "5DhDBCrL5Y9Q"
      },
      "execution_count": null,
      "outputs": []
    },
    {
      "cell_type": "markdown",
      "source": [
        "###Save and load on disk"
      ],
      "metadata": {
        "id": "ATX7G8Iu7iqy"
      }
    },
    {
      "cell_type": "code",
      "source": [
        "np.save('my_array', a)\n",
        "np.savez('array.npz', a, b)\n",
        "np.load('my_array.npy')\n",
        "np.loadtxt('myfile.txt')\n",
        "np.genfromtxt('my_file.csv', delimiter=',')\n",
        "np.savetxt()"
      ],
      "metadata": {
        "id": "Fwkh-o-17ld7"
      },
      "execution_count": null,
      "outputs": []
    }
  ]
}